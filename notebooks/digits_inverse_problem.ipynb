{
 "cells": [
  {
   "cell_type": "markdown",
   "metadata": {},
   "source": [
    "In the last [post](https://miller-blog.com/inverse-problem-part-1/) I have written about inverse problems. A simplified toy example was presented, which showed you how to translate this problem into an optimization problem. Optimization problems can be solved by several algorithms, for example gradient descent or evolutionary algorithms.  \n",
    "This article presents a more sophisticated inverse problem. We want to classify images of digits.  \n",
    "\n",
    "<img src=\"https://raw.githubusercontent.com/arturmiller/MachineLearning/master/notebooks/images/classification_as_inversion.svg?sanitize=true\" style=\"width: 50%;\"/>  \n",
    "\n",
    "In general inverse problems have causal factors from which observations arise. The test images are our observations. In our classification problem there are two kinds of forward models: \n",
    "- The first forward problem is the projection from the latent space (I use the words \"causal factors\" and \"latent space\" interchangeably) to the image space. This is modeled as being a linear combination of example images and the latent vector. The latent space has 10 dimensions. Each dimension is represented as an example image of each class.\n",
    "- The second forward problem is to get from the latent space to the class prediction. Here it is simply the argmax operation. In other cases it could be a more complex model.\n",
    "\n",
    "Defining the forward problems in this way, leads to a latent space, in which each dimension describes the weight of the corresponding class. It is not a probability distribution, since the values don't sum up to one.  \n",
    "More complex causal factors, like translation and orientation could be modeled into the latent space as well. This isn't done here in this article to keep everything simple.  "
   ]
  },
  {
   "cell_type": "code",
   "execution_count": 1,
   "metadata": {},
   "outputs": [
    {
     "data": {
      "image/png": "[encoded data removed]",
      "text/plain": [
       "<matplotlib.figure.Figure at 0x25512b0def0>"
      ]
     },
     "metadata": {},
     "output_type": "display_data"
    }
   ],
   "source": [
    "%matplotlib inline\n",
    "from sklearn import datasets\n",
    "import matplotlib.pylab as plt\n",
    "\n",
    "digits = datasets.load_digits(10)\n",
    "\n",
    "f, ax = plt.subplots(2, 5, sharex='col', sharey='row', figsize=(10, 8))\n",
    "\n",
    "for i in range(2):\n",
    "    for j in range(5):\n",
    "        ax[i, j].imshow(\n",
    "            digits.images[i * 5 + j, :], cmap='gray_r')"
   ]
  },
  {
   "cell_type": "markdown",
   "metadata": {},
   "source": [
    "These images are stacked into the $10\\times64$ model matrix. Each example image is flattened and represented as a row in the model matrix.   \n",
    "To show that this approach actually works, we want to classify the image of a zero, which is not contained in the model matrix."
   ]
  },
  {
   "cell_type": "code",
   "execution_count": 2,
   "metadata": {},
   "outputs": [
    {
     "name": "stdout",
     "output_type": "stream",
     "text": [
      "cur_causal_factors: (10,)\n",
      "model_params: (10, 64)\n",
      "observation: (64,)\n"
     ]
    },
    {
     "data": {
      "text/plain": [
       "<matplotlib.image.AxesImage at 0x25515eaba58>"
      ]
     },
     "execution_count": 2,
     "metadata": {},
     "output_type": "execute_result"
    },
    {
     "data": {
      "image/png": "[encoded data removed]",
      "text/plain": [
       "<matplotlib.figure.Figure at 0x2551613d588>"
      ]
     },
     "metadata": {},
     "output_type": "display_data"
    }
   ],
   "source": [
    "import numpy as np\n",
    "\n",
    "cur_causal_factors = np.zeros(10)\n",
    "print('cur_causal_factors: {}'.format(cur_causal_factors.shape))\n",
    "model_params = digits.images[:10].reshape((10, -1))\n",
    "print('model_params: {}'.format(model_params.shape))\n",
    "\n",
    "observation = digits.images[10].reshape(-1)\n",
    "print('observation: {}'.format(observation.shape))\n",
    "\n",
    "plt.imshow(observation.reshape((8, 8)), cmap='gray_r')"
   ]
  },
  {
   "cell_type": "markdown",
   "metadata": {},
   "source": [
    "Solving this inverse problem requires modeling the forward problem. In this example the forward problem is simply modeled as the matrix multiplication of the model matrix and flattened test image. The loss is defined as the mean squared error of the difference between the observation and the forward projected causal factors.\n",
    "I'm using the [Einstein notation](https://docs.scipy.org/doc/numpy-1.14.0/reference/generated/numpy.einsum.html) here. The Einstein notation is implemented as a domain specific language, which abstracts away many vector, matrix and tensor operations. E.g. matrix multiplication, matrix transpose and dot product. A well written blog post about this topic can be found [here](https://rockt.github.io/2018/04/30/einsum).  \n",
    "Solving the optimization problem with gradient descent leads to the best prediction of the causal factors. "
   ]
  },
  {
   "cell_type": "code",
   "execution_count": 3,
   "metadata": {},
   "outputs": [
    {
     "data": {
      "text/plain": [
       "<matplotlib.figure.Figure at 0x25515f4ef98>"
      ]
     },
     "execution_count": 3,
     "metadata": {},
     "output_type": "execute_result"
    },
    {
     "data": {
      "image/png": "[encoded data removed]",
      "text/plain": [
       "<matplotlib.figure.Figure at 0x2551614f390>"
      ]
     },
     "metadata": {},
     "output_type": "display_data"
    },
    {
     "data": {
      "text/plain": [
       "<matplotlib.figure.Figure at 0x25515f4ef98>"
      ]
     },
     "metadata": {},
     "output_type": "display_data"
    }
   ],
   "source": [
    "def forward(causal_factors):\n",
    "    simulation = np.einsum('i,ij->j', causal_factors, model_params)\n",
    "    return simulation\n",
    "\n",
    "def loss(observation, causal_factors):\n",
    "    # mean squared error\n",
    "    return np.mean((observation - forward(causal_factors))**2)\n",
    "\n",
    "def derivative_loss(observation, causal_factors):\n",
    "    n = observation.shape[0]\n",
    "    return -2.0 / n * np.einsum('i,ji->j', (observation - forward(causal_factors)), model_params)\n",
    "\n",
    "alpha = 5e-6\n",
    "\n",
    "losses = [loss(observation, cur_causal_factors), ]\n",
    "\n",
    "for i in range(100):\n",
    "    dL = -2 * np.einsum('i,ji->j', (observation - forward(cur_causal_factors)), model_params)\n",
    "    cur_causal_factors = cur_causal_factors - alpha * dL\n",
    "    losses.append(loss(observation, cur_causal_factors))\n",
    "\n",
    "plt.plot(losses)\n",
    "plt.grid()\n",
    "plt.xlabel('iteration')\n",
    "plt.ylabel('loss')\n",
    "plt.figure()"
   ]
  },
  {
   "cell_type": "markdown",
   "metadata": {},
   "source": [
    "In the next plot we see the result of the inverse problem. The class is predicted correctly as zero, because the zero dimension of the latent space has the highest value for the observed image."
   ]
  },
  {
   "cell_type": "code",
   "execution_count": 4,
   "metadata": {},
   "outputs": [
    {
     "name": "stdout",
     "output_type": "stream",
     "text": [
      "predicted class: 0\n"
     ]
    },
    {
     "data": {
      "image/png": "[encoded data removed]",
      "text/plain": [
       "<matplotlib.figure.Figure at 0x25516156240>"
      ]
     },
     "metadata": {},
     "output_type": "display_data"
    }
   ],
   "source": [
    "prediction = np.argmax(cur_causal_factors)\n",
    "print('predicted class: {}'.format(prediction))\n",
    "\n",
    "plt.bar(range(10), cur_causal_factors)\n",
    "plt.grid()"
   ]
  },
  {
   "cell_type": "markdown",
   "metadata": {},
   "source": [
    "The next figure shows the results. At the left is the actual observed test image. The middle figure shows the projection of the resulting latent space into the image space. It can be seen, that the image is reproduced quite well. Since we have modeled the latent space (10 dimensions) to be smaller than the image space (64 dimensions) it is not possible to reproduce the observed image perfectly. The difference of both images is shown in the right figure. "
   ]
  },
  {
   "cell_type": "code",
   "execution_count": 5,
   "metadata": {},
   "outputs": [
    {
     "data": {
      "text/plain": [
       "<matplotlib.text.Text at 0x2551633dfd0>"
      ]
     },
     "execution_count": 5,
     "metadata": {},
     "output_type": "execute_result"
    },
    {
     "data": {
      "image/png": "[encoded data removed]",
      "text/plain": [
       "<matplotlib.figure.Figure at 0x25515eca278>"
      ]
     },
     "metadata": {},
     "output_type": "display_data"
    }
   ],
   "source": [
    "f, ax = plt.subplots(1, 3, figsize=(10, 4))\n",
    "\n",
    "ax[0].imshow(observation.reshape((8, 8)), cmap='gray_r')\n",
    "ax[0].set_title('Model')\n",
    "ax[1].imshow(forward(cur_causal_factors).reshape((8, 8)), cmap='gray_r')\n",
    "ax[1].set_title('Forward Projection')\n",
    "ax[2].imshow(forward(cur_causal_factors).reshape((8, 8)) - observation.reshape((8, 8)), cmap='gray_r')\n",
    "ax[2].set_title('Difference')"
   ]
  },
  {
   "cell_type": "markdown",
   "metadata": {},
   "source": [
    "We have seen, that classification problems can be translated into inverse problems and can be solved with gradient based optimization procedures. However, for classification there is not so much value in this approach, because the forward model has to be defined. If we are talking about classification, we are also talking about training the model with data. This is in fact possible. I show you in the next article how this is done. It is possible to use the same methods as we have seen already and to solve it as an optimization problem."
   ]
  }
 ],
 "metadata": {
  "kernelspec": {
   "display_name": "Python 3",
   "language": "python",
   "name": "python3"
  },
  "language_info": {
   "codemirror_mode": {
    "name": "ipython",
    "version": 3
   },
   "file_extension": ".py",
   "mimetype": "text/x-python",
   "name": "python",
   "nbconvert_exporter": "python",
   "pygments_lexer": "ipython3",
   "version": "3.6.2"
  }
 },
 "nbformat": 4,
 "nbformat_minor": 2
}
