{
 "cells": [
  {
   "cell_type": "code",
   "execution_count": 1,
   "metadata": {
    "collapsed": false
   },
   "outputs": [
    {
     "data": {
      "text/plain": [
       "{'IPython.Accordion': ipywidgets.widgets.widget_selectioncontainer.Accordion,\n",
       " 'IPython.BoundedFloatText': ipywidgets.widgets.widget_float.BoundedFloatText,\n",
       " 'IPython.BoundedIntText': ipywidgets.widgets.widget_int.BoundedIntText,\n",
       " 'IPython.Box': ipywidgets.widgets.widget_box.Box,\n",
       " 'IPython.Button': ipywidgets.widgets.widget_button.Button,\n",
       " 'IPython.Checkbox': ipywidgets.widgets.widget_bool.Checkbox,\n",
       " 'IPython.ColorPicker': ipywidgets.widgets.widget_color.ColorPicker,\n",
       " 'IPython.Controller': ipywidgets.widgets.widget_controller.Controller,\n",
       " 'IPython.ControllerAxis': ipywidgets.widgets.widget_controller.Axis,\n",
       " 'IPython.ControllerButton': ipywidgets.widgets.widget_controller.Button,\n",
       " 'IPython.Dropdown': ipywidgets.widgets.widget_selection.Dropdown,\n",
       " 'IPython.FlexBox': ipywidgets.widgets.widget_box.FlexBox,\n",
       " 'IPython.FloatProgress': ipywidgets.widgets.widget_float.FloatProgress,\n",
       " 'IPython.FloatRangeSlider': ipywidgets.widgets.widget_float.FloatRangeSlider,\n",
       " 'IPython.FloatSlider': ipywidgets.widgets.widget_float.FloatSlider,\n",
       " 'IPython.FloatText': ipywidgets.widgets.widget_float.FloatText,\n",
       " 'IPython.HTML': ipywidgets.widgets.widget_string.HTML,\n",
       " 'IPython.Image': ipywidgets.widgets.widget_image.Image,\n",
       " 'IPython.IntProgress': ipywidgets.widgets.widget_int.IntProgress,\n",
       " 'IPython.IntRangeSlider': ipywidgets.widgets.widget_int.IntRangeSlider,\n",
       " 'IPython.IntSlider': ipywidgets.widgets.widget_int.IntSlider,\n",
       " 'IPython.IntText': ipywidgets.widgets.widget_int.IntText,\n",
       " 'IPython.Latex': ipywidgets.widgets.widget_string.Latex,\n",
       " 'IPython.PlaceProxy': ipywidgets.widgets.widget_box.PlaceProxy,\n",
       " 'IPython.Proxy': ipywidgets.widgets.widget_box.Proxy,\n",
       " 'IPython.RadioButtons': ipywidgets.widgets.widget_selection.RadioButtons,\n",
       " 'IPython.Select': ipywidgets.widgets.widget_selection.Select,\n",
       " 'IPython.SelectMultiple': ipywidgets.widgets.widget_selection.SelectMultiple,\n",
       " 'IPython.Tab': ipywidgets.widgets.widget_selectioncontainer.Tab,\n",
       " 'IPython.Text': ipywidgets.widgets.widget_string.Text,\n",
       " 'IPython.Textarea': ipywidgets.widgets.widget_string.Textarea,\n",
       " 'IPython.ToggleButton': ipywidgets.widgets.widget_bool.ToggleButton,\n",
       " 'IPython.ToggleButtons': ipywidgets.widgets.widget_selection.ToggleButtons,\n",
       " 'IPython.Valid': ipywidgets.widgets.widget_bool.Valid}"
      ]
     },
     "execution_count": 1,
     "metadata": {},
     "output_type": "execute_result"
    }
   ],
   "source": [
    "import ipywidgets as widgets\n",
    "widgets.Widget.widget_types"
   ]
  },
  {
   "cell_type": "code",
   "execution_count": 2,
   "metadata": {
    "collapsed": true
   },
   "outputs": [],
   "source": [
    "widgets.IntSlider(\n",
    "    value=7,\n",
    "    min=0,\n",
    "    max=10,\n",
    "    step=1,\n",
    "    description='Test:',\n",
    "    disabled=False,\n",
    "    continuous_update=False,\n",
    "    orientation='horizontal',\n",
    "    readout=True,\n",
    "    readout_format='i',\n",
    "    slider_color='white'\n",
    ")"
   ]
  },
  {
   "cell_type": "code",
   "execution_count": 3,
   "metadata": {
    "collapsed": true
   },
   "outputs": [],
   "source": [
    "\n",
    "\n",
    "widgets.Button(\n",
    "    description='Click me',\n",
    "    disabled=False,\n",
    "    button_style='', # 'success', 'info', 'warning', 'danger' or ''\n",
    "    tooltip='Click me',\n",
    "    icon='check'\n",
    ")\n",
    "\n"
   ]
  }
 ],
 "metadata": {
  "anaconda-cloud": {},
  "kernelspec": {
   "display_name": "Python [Root]",
   "language": "python",
   "name": "Python [Root]"
  },
  "language_info": {
   "codemirror_mode": {
    "name": "ipython",
    "version": 3
   },
   "file_extension": ".py",
   "mimetype": "text/x-python",
   "name": "python",
   "nbconvert_exporter": "python",
   "pygments_lexer": "ipython3",
   "version": "3.5.2"
  }
 },
 "nbformat": 4,
 "nbformat_minor": 0
}
