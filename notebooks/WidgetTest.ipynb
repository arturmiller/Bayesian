{
 "cells": [
  {
   "cell_type": "code",
   "execution_count": 4,
   "metadata": {
    "collapsed": false
   },
   "outputs": [
    {
     "data": {
      "text/plain": [
       "{'Jupyter.Accordion': ipywidgets.widgets.widget_selectioncontainer.Accordion,\n",
       " 'Jupyter.BoundedFloatText': ipywidgets.widgets.widget_float.BoundedFloatText,\n",
       " 'Jupyter.BoundedIntText': ipywidgets.widgets.widget_int.BoundedIntText,\n",
       " 'Jupyter.Box': ipywidgets.widgets.widget_box.Box,\n",
       " 'Jupyter.Button': ipywidgets.widgets.widget_button.Button,\n",
       " 'Jupyter.Checkbox': ipywidgets.widgets.widget_bool.Checkbox,\n",
       " 'Jupyter.ColorPicker': ipywidgets.widgets.widget_color.ColorPicker,\n",
       " 'Jupyter.Controller': ipywidgets.widgets.widget_controller.Controller,\n",
       " 'Jupyter.ControllerAxis': ipywidgets.widgets.widget_controller.Axis,\n",
       " 'Jupyter.ControllerButton': ipywidgets.widgets.widget_controller.Button,\n",
       " 'Jupyter.Dropdown': ipywidgets.widgets.widget_selection.Dropdown,\n",
       " 'Jupyter.FlexBox': ipywidgets.widgets.widget_box.FlexBox,\n",
       " 'Jupyter.FloatProgress': ipywidgets.widgets.widget_float.FloatProgress,\n",
       " 'Jupyter.FloatRangeSlider': ipywidgets.widgets.widget_float.FloatRangeSlider,\n",
       " 'Jupyter.FloatSlider': ipywidgets.widgets.widget_float.FloatSlider,\n",
       " 'Jupyter.FloatText': ipywidgets.widgets.widget_float.FloatText,\n",
       " 'Jupyter.HTML': ipywidgets.widgets.widget_string.HTML,\n",
       " 'Jupyter.Image': ipywidgets.widgets.widget_image.Image,\n",
       " 'Jupyter.IntProgress': ipywidgets.widgets.widget_int.IntProgress,\n",
       " 'Jupyter.IntRangeSlider': ipywidgets.widgets.widget_int.IntRangeSlider,\n",
       " 'Jupyter.IntSlider': ipywidgets.widgets.widget_int.IntSlider,\n",
       " 'Jupyter.IntText': ipywidgets.widgets.widget_int.IntText,\n",
       " 'Jupyter.Label': ipywidgets.widgets.widget_string.Label,\n",
       " 'Jupyter.PlaceProxy': ipywidgets.widgets.widget_box.PlaceProxy,\n",
       " 'Jupyter.Play': ipywidgets.widgets.widget_int.Play,\n",
       " 'Jupyter.Proxy': ipywidgets.widgets.widget_box.Proxy,\n",
       " 'Jupyter.RadioButtons': ipywidgets.widgets.widget_selection.RadioButtons,\n",
       " 'Jupyter.Select': ipywidgets.widgets.widget_selection.Select,\n",
       " 'Jupyter.SelectMultiple': ipywidgets.widgets.widget_selection.SelectMultiple,\n",
       " 'Jupyter.SelectionSlider': ipywidgets.widgets.widget_selection.SelectionSlider,\n",
       " 'Jupyter.Tab': ipywidgets.widgets.widget_selectioncontainer.Tab,\n",
       " 'Jupyter.Text': ipywidgets.widgets.widget_string.Text,\n",
       " 'Jupyter.Textarea': ipywidgets.widgets.widget_string.Textarea,\n",
       " 'Jupyter.ToggleButton': ipywidgets.widgets.widget_bool.ToggleButton,\n",
       " 'Jupyter.ToggleButtons': ipywidgets.widgets.widget_selection.ToggleButtons,\n",
       " 'Jupyter.Valid': ipywidgets.widgets.widget_bool.Valid,\n",
       " 'jupyter.DirectionalLink': ipywidgets.widgets.widget_link.DirectionalLink,\n",
       " 'jupyter.Link': ipywidgets.widgets.widget_link.Link}"
      ]
     },
     "execution_count": 4,
     "metadata": {},
     "output_type": "execute_result"
    }
   ],
   "source": [
    "import ipywidgets as widgets\n",
    "widgets.Widget.widget_types"
   ]
  },
  {
   "cell_type": "code",
   "execution_count": 5,
   "metadata": {
    "collapsed": true
   },
   "outputs": [
    {
     "data": {
      "image/png": "[encoded data removed]",
      "text/html": [
       "<img src=data:image/png;base64,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 class=\"jupyter-widget\">\n",
       "<script type=\"application/vnd.jupyter-embedded-widgets\">[{},{\"max\":10,\"value\":7,\"layout\":\"IPY_MODEL_c54cb38a59654e629489f3fbd4c20322\",\"continuous_update\":false,\"description\":\"Test:\",\"slider_color\":\"white\",\"readout_format\":\"i\"}]</script>"
      ]
     },
     "metadata": {
      "isWidgetSnapshot": true
     },
     "output_type": "display_data"
    }
   ],
   "source": [
    "widgets.IntSlider(\n",
    "    value=7,\n",
    "    min=0,\n",
    "    max=10,\n",
    "    step=1,\n",
    "    description='Test:',\n",
    "    disabled=False,\n",
    "    continuous_update=False,\n",
    "    orientation='horizontal',\n",
    "    readout=True,\n",
    "    readout_format='i',\n",
    "    slider_color='white'\n",
    ")"
   ]
  },
  {
   "cell_type": "code",
   "execution_count": 6,
   "metadata": {
    "collapsed": true
   },
   "outputs": [
    {
     "data": {
      "image/png": "[encoded data removed]",
      "text/html": [
       "<img src=data:image/png;base64,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 class=\"jupyter-widget\">\n",
       "<script type=\"application/vnd.jupyter-embedded-widgets\">[{},{\"layout\":\"IPY_MODEL_f01b56b6f39545869f39274d20808820\",\"tooltip\":\"Click me\",\"icon\":\"check\",\"description\":\"Click me\"}]</script>"
      ]
     },
     "metadata": {
      "isWidgetSnapshot": true
     },
     "output_type": "display_data"
    }
   ],
   "source": [
    "\n",
    "\n",
    "widgets.Button(\n",
    "    description='Click me',\n",
    "    disabled=False,\n",
    "    button_style='', # 'success', 'info', 'warning', 'danger' or ''\n",
    "    tooltip='Click me',\n",
    "    icon='check'\n",
    ")\n",
    "\n"
   ]
  },
  {
   "cell_type": "code",
   "execution_count": null,
   "metadata": {
    "collapsed": true
   },
   "outputs": [],
   "source": []
  }
 ],
 "metadata": {
  "anaconda-cloud": {},
  "kernelspec": {
   "display_name": "Python [Root]",
   "language": "python",
   "name": "Python [Root]"
  },
  "language_info": {
   "codemirror_mode": {
    "name": "ipython",
    "version": 3
   },
   "file_extension": ".py",
   "mimetype": "text/x-python",
   "name": "python",
   "nbconvert_exporter": "python",
   "pygments_lexer": "ipython3",
   "version": "3.5.2"
  },
  "widgets": {
   "state": {
    "e1c2071eafa44f84acf8fa064be24f64": {
     "views": [
      {
       "cell_index": 1
      }
     ]
    },
    "e7254f9b425b4ce4a09f05f99ece52b5": {
     "views": [
      {
       "cell_index": 2
      }
     ]
    }
   },
   "version": "1.2.0"
  }
 },
 "nbformat": 4,
 "nbformat_minor": 0
}
