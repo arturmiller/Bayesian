{
 "cells": [
  {
   "cell_type": "code",
   "execution_count": 1,
   "metadata": {
    "collapsed": false
   },
   "outputs": [
    {
     "data": {
      "text/plain": [
       "{'Jupyter.Accordion': ipywidgets.widgets.widget_selectioncontainer.Accordion,\n",
       " 'Jupyter.BoundedFloatText': ipywidgets.widgets.widget_float.BoundedFloatText,\n",
       " 'Jupyter.BoundedIntText': ipywidgets.widgets.widget_int.BoundedIntText,\n",
       " 'Jupyter.Box': ipywidgets.widgets.widget_box.Box,\n",
       " 'Jupyter.Button': ipywidgets.widgets.widget_button.Button,\n",
       " 'Jupyter.Checkbox': ipywidgets.widgets.widget_bool.Checkbox,\n",
       " 'Jupyter.ColorPicker': ipywidgets.widgets.widget_color.ColorPicker,\n",
       " 'Jupyter.Controller': ipywidgets.widgets.widget_controller.Controller,\n",
       " 'Jupyter.ControllerAxis': ipywidgets.widgets.widget_controller.Axis,\n",
       " 'Jupyter.ControllerButton': ipywidgets.widgets.widget_controller.Button,\n",
       " 'Jupyter.Dropdown': ipywidgets.widgets.widget_selection.Dropdown,\n",
       " 'Jupyter.FlexBox': ipywidgets.widgets.widget_box.FlexBox,\n",
       " 'Jupyter.FloatProgress': ipywidgets.widgets.widget_float.FloatProgress,\n",
       " 'Jupyter.FloatRangeSlider': ipywidgets.widgets.widget_float.FloatRangeSlider,\n",
       " 'Jupyter.FloatSlider': ipywidgets.widgets.widget_float.FloatSlider,\n",
       " 'Jupyter.FloatText': ipywidgets.widgets.widget_float.FloatText,\n",
       " 'Jupyter.HTML': ipywidgets.widgets.widget_string.HTML,\n",
       " 'Jupyter.Image': ipywidgets.widgets.widget_image.Image,\n",
       " 'Jupyter.IntProgress': ipywidgets.widgets.widget_int.IntProgress,\n",
       " 'Jupyter.IntRangeSlider': ipywidgets.widgets.widget_int.IntRangeSlider,\n",
       " 'Jupyter.IntSlider': ipywidgets.widgets.widget_int.IntSlider,\n",
       " 'Jupyter.IntText': ipywidgets.widgets.widget_int.IntText,\n",
       " 'Jupyter.Label': ipywidgets.widgets.widget_string.Label,\n",
       " 'Jupyter.PlaceProxy': ipywidgets.widgets.widget_box.PlaceProxy,\n",
       " 'Jupyter.Play': ipywidgets.widgets.widget_int.Play,\n",
       " 'Jupyter.Proxy': ipywidgets.widgets.widget_box.Proxy,\n",
       " 'Jupyter.RadioButtons': ipywidgets.widgets.widget_selection.RadioButtons,\n",
       " 'Jupyter.Select': ipywidgets.widgets.widget_selection.Select,\n",
       " 'Jupyter.SelectMultiple': ipywidgets.widgets.widget_selection.SelectMultiple,\n",
       " 'Jupyter.SelectionSlider': ipywidgets.widgets.widget_selection.SelectionSlider,\n",
       " 'Jupyter.Tab': ipywidgets.widgets.widget_selectioncontainer.Tab,\n",
       " 'Jupyter.Text': ipywidgets.widgets.widget_string.Text,\n",
       " 'Jupyter.Textarea': ipywidgets.widgets.widget_string.Textarea,\n",
       " 'Jupyter.ToggleButton': ipywidgets.widgets.widget_bool.ToggleButton,\n",
       " 'Jupyter.ToggleButtons': ipywidgets.widgets.widget_selection.ToggleButtons,\n",
       " 'Jupyter.Valid': ipywidgets.widgets.widget_bool.Valid,\n",
       " 'jupyter.DirectionalLink': ipywidgets.widgets.widget_link.DirectionalLink,\n",
       " 'jupyter.Link': ipywidgets.widgets.widget_link.Link}"
      ]
     },
     "execution_count": 1,
     "metadata": {},
     "output_type": "execute_result"
    }
   ],
   "source": [
    "import ipywidgets as widgets\n",
    "widgets.Widget.widget_types"
   ]
  },
  {
   "cell_type": "code",
   "execution_count": 2,
   "metadata": {
    "collapsed": true
   },
   "outputs": [],
   "source": [
    "widgets.IntSlider(\n",
    "    value=7,\n",
    "    min=0,\n",
    "    max=10,\n",
    "    step=1,\n",
    "    description='Test:',\n",
    "    disabled=False,\n",
    "    continuous_update=False,\n",
    "    orientation='horizontal',\n",
    "    readout=True,\n",
    "    readout_format='i',\n",
    "    slider_color='white'\n",
    ")"
   ]
  },
  {
   "cell_type": "code",
   "execution_count": 3,
   "metadata": {
    "collapsed": true
   },
   "outputs": [],
   "source": [
    "\n",
    "\n",
    "widgets.Button(\n",
    "    description='Click me',\n",
    "    disabled=False,\n",
    "    button_style='', # 'success', 'info', 'warning', 'danger' or ''\n",
    "    tooltip='Click me',\n",
    "    icon='check'\n",
    ")\n",
    "\n"
   ]
  }
 ],
 "metadata": {
  "anaconda-cloud": {},
  "kernelspec": {
   "display_name": "Python [Root]",
   "language": "python",
   "name": "Python [Root]"
  },
  "language_info": {
   "codemirror_mode": {
    "name": "ipython",
    "version": 3
   },
   "file_extension": ".py",
   "mimetype": "text/x-python",
   "name": "python",
   "nbconvert_exporter": "python",
   "pygments_lexer": "ipython3",
   "version": "3.5.2"
  },
  "widgets": {
   "state": {
    "0d213a912ae443b9884ed31ee8d21a4b": {
     "views": [
      {
       "cell_index": 2
      }
     ]
    },
    "59ef6f82bc384b3e9b8787b6bae7b2fc": {
     "views": [
      {
       "cell_index": 1
      }
     ]
    }
   },
   "version": "1.2.0"
  }
 },
 "nbformat": 4,
 "nbformat_minor": 0
}
