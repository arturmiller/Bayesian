{
 "cells": [
  {
   "cell_type": "markdown",
   "metadata": {},
   "source": [
    "In the last [post](https://miller-blog.com/inverse-problem-part-1/) I have written about inverse problems. A simplified toy example was presented, which showed you how to translate this problem into an optimization problem. Optimization problems can be solved by several algorithms, for example gradient descent or evolutionary algorithms.  \n",
    "This article presents a more sophisticated inverse problem. We want to classify images of digits.  \n",
    "\n",
    "<img src=\"https://raw.githubusercontent.com/arturmiller/MachineLearning/master/notebooks/images/classification_as_inversion.svg?sanitize=true\" style=\"width: 50%;\"/>  \n",
    "\n",
    "In general inverse problems have causal factors from which observations arise. The test images are our observations. In our classification problem there are two kinds of forward models: \n",
    "- The first forward problem is the projection from the latent space $\\mathbf{z}$ (I use the words \"causal factors\" and \"latent space\" interchangeable) to the image space $f(\\mathbf{z})$. This is modeled as being a linear combination of example images $\\mathbf{\\phi}$ and the latent vector ($f(\\mathbf{z})=\\mathbf{\\phi} \\mathbf{z}$). The latent space has 10 dimensions. Each dimension is represented as an example image of each class. The predicted latent space $\\mathbf{z^*}$ is found by optimzing the mean-squared-error of the deviation of the image $\\mathbf{X}$ and $f(\\mathbf{z})$.\n",
    "$$L=\\frac{1}{N}\\sum_{n=1}^N{(X_n-f(z_n))^2}$$\n",
    "$$\\mathbf{z^*}=\\underset{\\mathbf{z}}{\\operatorname{argmin}}(L)$$\n",
    "- The second forward problem is the mapping from the latent space to the class prediction $y_{predict}$. Here it is simply the argmax operation. In other cases it could be a more complex model.\n",
    "$$y_{predict}=\\operatorname{argmax}(\\mathbf{z^*})$$  \n",
    "Defining the forward problems in this way, leads to a latent space, in which each dimension describes the weight of the corresponding class. It is not a probability distribution, since the values don't sum up to one.  \n",
    "More complex causal factors, like translation and orientation could be modeled into the latent space as well. This isn't done here in this article to keep everything simple.  "
   ]
  },
  {
   "cell_type": "code",
   "execution_count": 1,
   "metadata": {},
   "outputs": [
    {
     "data": {
      "image/png": "[encoded data removed]",
      "text/plain": [
       "<matplotlib.figure.Figure at 0x1b2e301e470>"
      ]
     },
     "metadata": {},
     "output_type": "display_data"
    }
   ],
   "source": [
    "%matplotlib inline\n",
    "from sklearn import datasets\n",
    "import matplotlib.pylab as plt\n",
    "\n",
    "digits = datasets.load_digits(10)\n",
    "\n",
    "f, ax = plt.subplots(2, 5, sharex='col', sharey='row', figsize=(10, 8))\n",
    "\n",
    "for i in range(2):\n",
    "    for j in range(5):\n",
    "        ax[i, j].imshow(\n",
    "            digits.images[i * 5 + j, :], cmap='gray_r')"
   ]
  },
  {
   "cell_type": "markdown",
   "metadata": {},
   "source": [
    "These images are stacked into the $10\\times64$ model matrix. Each example image is flattened and represented as a row in the model matrix.   \n",
    "To show that this approach actually works, we want to classify the image of a zero, which is not contained in the model matrix."
   ]
  },
  {
   "cell_type": "code",
   "execution_count": 2,
   "metadata": {},
   "outputs": [
    {
     "name": "stdout",
     "output_type": "stream",
     "text": [
      "cur_causal_factors: (10,)\n",
      "model_params: (10, 64)\n",
      "observation: (64,)\n"
     ]
    },
    {
     "data": {
      "text/plain": [
       "<matplotlib.image.AxesImage at 0x1b2e6373e48>"
      ]
     },
     "execution_count": 2,
     "metadata": {},
     "output_type": "execute_result"
    },
    {
     "data": {
      "image/png": "[encoded data removed]",
      "text/plain": [
       "<matplotlib.figure.Figure at 0x1b2d32ac6a0>"
      ]
     },
     "metadata": {},
     "output_type": "display_data"
    }
   ],
   "source": [
    "import numpy as np\n",
    "\n",
    "cur_causal_factors = np.zeros(10)\n",
    "print('cur_causal_factors: {}'.format(cur_causal_factors.shape))\n",
    "model_params = digits.images[:10].reshape((10, -1))\n",
    "print('model_params: {}'.format(model_params.shape))\n",
    "\n",
    "observation = digits.images[10].reshape(-1)\n",
    "print('observation: {}'.format(observation.shape))\n",
    "\n",
    "plt.imshow(observation.reshape((8, 8)), cmap='gray_r')"
   ]
  },
  {
   "cell_type": "markdown",
   "metadata": {},
   "source": [
    "Solving this inverse problem requires modeling the forward problem. In this example the forward problem is simply modeled as the matrix multiplication of the model matrix and flattened test image. The loss is defined as the mean squared error of the difference between the observation and the forward projected causal factors.\n",
    "I'm using the [Einstein notation](https://docs.scipy.org/doc/numpy-1.14.0/reference/generated/numpy.einsum.html) here. The Einstein notation is implemented as a domain specific language, which abstracts away many vector, matrix and tensor operations. E.g. matrix multiplication, matrix transpose and dot product. A well written blog post about this topic can be found [here](https://rockt.github.io/2018/04/30/einsum).  \n",
    "Solving the optimization problem with gradient descent leads to the best prediction of the causal factors. "
   ]
  },
  {
   "cell_type": "code",
   "execution_count": 3,
   "metadata": {},
   "outputs": [
    {
     "name": "stdout",
     "output_type": "stream",
     "text": [
      "index: 0 loss: 29.335596084594727\r",
      "index: 1 loss: 20.17009735107422\r",
      "index: 2 loss: 16.860998153686523\r",
      "index: 3 loss: 15.461257934570312\r",
      "index: 4 loss: 14.693910598754883\r",
      "index: 5 loss: 14.14533805847168\r",
      "index: 6 loss: 13.681121826171875\r",
      "index: 7 loss: 13.257135391235352\r",
      "index: 8 loss: 12.85848617553711\r",
      "index: 9 loss: 12.479768753051758\r",
      "index: 10 loss: 12.11866569519043\r",
      "index: 11 loss: 11.773896217346191\r",
      "index: 12 loss: 11.444534301757812\r",
      "index: 13 loss: 11.12979507446289\r",
      "index: 14 loss: 10.82896614074707\r",
      "index: 15 loss: 10.541379928588867\r",
      "index: 16 loss: 10.26640510559082\r",
      "index: 17 loss: 10.003440856933594\r",
      "index: 18 loss: 9.75191879272461\r",
      "index: 19 loss: 9.511297225952148\r",
      "index: 20 loss: 9.281061172485352\r",
      "index: 21 loss: 9.060724258422852\r",
      "index: 22 loss: 8.849817276000977\r",
      "index: 23 loss: 8.64790153503418\r",
      "index: 24 loss: 8.454553604125977\r",
      "index: 25 loss: 8.269375801086426\r",
      "index: 26 loss: 8.091986656188965\r",
      "index: 27 loss: 7.92202615737915\r",
      "index: 28 loss: 7.759147644042969\r",
      "index: 29 loss: 7.603025913238525\r",
      "index: 30 loss: 7.453347206115723\r",
      "index: 31 loss: 7.309816360473633\r",
      "index: 32 loss: 7.172151565551758\r",
      "index: 33 loss: 7.040085315704346\r",
      "index: 34 loss: 6.913361072540283\r",
      "index: 35 loss: 6.791736125946045\r",
      "index: 36 loss: 6.674979209899902\r",
      "index: 37 loss: 6.562870025634766\r",
      "index: 38 loss: 6.455199241638184\r",
      "index: 39 loss: 6.351768493652344\r",
      "index: 40 loss: 6.252386093139648\r",
      "index: 41 loss: 6.156871795654297\r",
      "index: 42 loss: 6.065053939819336\r",
      "index: 43 loss: 5.9767680168151855\r",
      "index: 44 loss: 5.891857147216797\r",
      "index: 45 loss: 5.810173988342285\r",
      "index: 46 loss: 5.731575965881348\r",
      "index: 47 loss: 5.655927658081055\r",
      "index: 48 loss: 5.58310079574585\r",
      "index: 49 loss: 5.512973308563232\r",
      "index: 50 loss: 5.445429801940918\r",
      "index: 51 loss: 5.380356311798096\r",
      "index: 52 loss: 5.3176469802856445\r",
      "index: 53 loss: 5.2572021484375\r",
      "index: 54 loss: 5.198924541473389\r",
      "index: 55 loss: 5.142723083496094\r",
      "index: 56 loss: 5.088508605957031\r",
      "index: 57 loss: 5.036199569702148\r",
      "index: 58 loss: 4.985713958740234\r",
      "index: 59 loss: 4.936978340148926\r",
      "index: 60 loss: 4.889917850494385\r",
      "index: 61 loss: 4.844465255737305\r",
      "index: 62 loss: 4.800553321838379\r",
      "index: 63 loss: 4.758119583129883\r",
      "index: 64 loss: 4.717103004455566\r",
      "index: 65 loss: 4.6774492263793945\r",
      "index: 66 loss: 4.63909912109375\r",
      "index: 67 loss: 4.602003574371338\r",
      "index: 68 loss: 4.5661115646362305\r",
      "index: 69 loss: 4.531375885009766\r",
      "index: 70 loss: 4.497750282287598\r",
      "index: 71 loss: 4.465190887451172\r",
      "index: 72 loss: 4.433657646179199\r",
      "index: 73 loss: 4.403110504150391\r",
      "index: 74 loss: 4.373509407043457\r",
      "index: 75 loss: 4.344821453094482\r",
      "index: 76 loss: 4.317009925842285\r",
      "index: 77 loss: 4.290040969848633\r",
      "index: 78 loss: 4.263885498046875\r",
      "index: 79 loss: 4.2385101318359375\r",
      "index: 80 loss: 4.213887691497803\r",
      "index: 81 loss: 4.189990043640137\r",
      "index: 82 loss: 4.166790962219238\r",
      "index: 83 loss: 4.144265174865723\r",
      "index: 84 loss: 4.1223859786987305\r",
      "index: 85 loss: 4.101133346557617\r",
      "index: 86 loss: 4.080483436584473\r",
      "index: 87 loss: 4.060415267944336\r",
      "index: 88 loss: 4.040907859802246\r",
      "index: 89 loss: 4.021941184997559\r",
      "index: 90 loss: 4.003498077392578\r",
      "index: 91 loss: 3.98555850982666\r",
      "index: 92 loss: 3.968107223510742\r",
      "index: 93 loss: 3.95112681388855\r",
      "index: 94 loss: 3.934600591659546\r",
      "index: 95 loss: 3.918513536453247\r",
      "index: 96 loss: 3.9028525352478027\r",
      "index: 97 loss: 3.887601852416992\r",
      "index: 98 loss: 3.872748374938965\r",
      "index: 99 loss: 3.8582801818847656\r"
     ]
    },
    {
     "data": {
      "text/plain": [
       "<matplotlib.figure.Figure at 0x1b2e409aac8>"
      ]
     },
     "execution_count": 3,
     "metadata": {},
     "output_type": "execute_result"
    },
    {
     "data": {
      "image/png": "[encoded data removed]",
      "text/plain": [
       "<matplotlib.figure.Figure at 0x1b2ea929780>"
      ]
     },
     "metadata": {},
     "output_type": "display_data"
    },
    {
     "data": {
      "text/plain": [
       "<matplotlib.figure.Figure at 0x1b2e409aac8>"
      ]
     },
     "metadata": {},
     "output_type": "display_data"
    }
   ],
   "source": [
    "import tensorflow as tf\n",
    "\n",
    "tf_cur_causal_factors = tf.Variable(cur_causal_factors, dtype=tf.float32)\n",
    "tf_model_params = tf.constant(model_params, dtype=tf.float32)\n",
    "tf_observation = tf.constant(observation, dtype=tf.float32)\n",
    "\n",
    "def forward(tf_causal_factors):\n",
    "    simulation = tf.einsum('i,ij->j', tf_causal_factors, tf_model_params)\n",
    "    return simulation\n",
    "\n",
    "tf_loss = tf.losses.mean_squared_error(tf_observation, forward(tf_cur_causal_factors))\n",
    "\n",
    "alpha = 5e-4\n",
    "\n",
    "optimizer = tf.train.GradientDescentOptimizer(alpha)\n",
    "train = optimizer.minimize(tf_loss)\n",
    "\n",
    "init = tf.global_variables_initializer()\n",
    "sess = tf.Session()\n",
    "sess.run(init)\n",
    "\n",
    "losses = []\n",
    "tmp_loss = sess.run(tf_loss)\n",
    "losses.append(tmp_loss)\n",
    "\n",
    "def eval_step(i=0):\n",
    "    tmp_loss = sess.run(tf_loss)\n",
    "    losses.append(tmp_loss)\n",
    "    if i % 1 == 0:\n",
    "        print('index: {} loss: {}'.format(i, tmp_loss), end='\\r')\n",
    "\n",
    "for i in range(100):\n",
    "    sess.run(train)\n",
    "    eval_step(i)\n",
    "\n",
    "plt.plot(losses)\n",
    "plt.grid()\n",
    "plt.xlabel('iteration')\n",
    "plt.ylabel('loss')\n",
    "plt.figure()"
   ]
  },
  {
   "cell_type": "markdown",
   "metadata": {},
   "source": [
    "In the next plot we see the result of the inverse problem. The class is predicted correctly as zero, because the zero dimension of the latent space has the highest value for the observed image."
   ]
  },
  {
   "cell_type": "code",
   "execution_count": 4,
   "metadata": {},
   "outputs": [
    {
     "name": "stdout",
     "output_type": "stream",
     "text": [
      "predicted class: 0\n"
     ]
    },
    {
     "data": {
      "image/png": "[encoded data removed]",
      "text/plain": [
       "<matplotlib.figure.Figure at 0x1b2eab3aa90>"
      ]
     },
     "metadata": {},
     "output_type": "display_data"
    }
   ],
   "source": [
    "cur_causal_factors = sess.run(tf_cur_causal_factors)\n",
    "prediction = np.argmax(cur_causal_factors)\n",
    "print('predicted class: {}'.format(prediction))\n",
    "\n",
    "plt.bar(range(10), cur_causal_factors)\n",
    "plt.grid()"
   ]
  },
  {
   "cell_type": "markdown",
   "metadata": {},
   "source": [
    "The next figure shows the results. At the left is the actual observed test image. The middle figure shows the projection of the resulting latent space into the image space. It can be seen, that the image is reproduced quite well. Since we have modeled the latent space (10 dimensions) to be smaller than the image space (64 dimensions) it is not possible to reproduce the observed image perfectly. The difference of both images is shown in the right figure. "
   ]
  },
  {
   "cell_type": "code",
   "execution_count": 5,
   "metadata": {},
   "outputs": [
    {
     "data": {
      "text/plain": [
       "<matplotlib.text.Text at 0x1b2eac90828>"
      ]
     },
     "execution_count": 5,
     "metadata": {},
     "output_type": "execute_result"
    },
    {
     "data": {
      "image/png": "[encoded data removed]",
      "text/plain": [
       "<matplotlib.figure.Figure at 0x1b2eac0c2e8>"
      ]
     },
     "metadata": {},
     "output_type": "display_data"
    }
   ],
   "source": [
    "f, ax = plt.subplots(1, 3, figsize=(10, 4))\n",
    "\n",
    "ax[0].imshow(observation.reshape((8, 8)), cmap='gray_r')\n",
    "ax[0].set_title('Model')\n",
    "ax[1].imshow(sess.run(forward(tf_cur_causal_factors)).reshape((8, 8)), cmap='gray_r')\n",
    "ax[1].set_title('Forward Projection')\n",
    "ax[2].imshow(sess.run(forward(tf_cur_causal_factors)).reshape((8, 8)) - observation.reshape((8, 8)), cmap='gray_r')\n",
    "ax[2].set_title('Difference')"
   ]
  },
  {
   "cell_type": "markdown",
   "metadata": {},
   "source": [
    "We have seen, that classification problems can be translated into inverse problems and can be solved with gradient based optimization procedures. However, for classification there is not so much value in this approach, because the forward model has to be defined. If we are talking about classification, we are also talking about training the model with data. This is in fact possible. I show you in the next article how this is done. It is possible to use the same methods as we have seen already and to solve it as an optimization problem."
   ]
  }
 ],
 "metadata": {
  "kernelspec": {
   "display_name": "Python 3",
   "language": "python",
   "name": "python3"
  },
  "language_info": {
   "codemirror_mode": {
    "name": "ipython",
    "version": 3
   },
   "file_extension": ".py",
   "mimetype": "text/x-python",
   "name": "python",
   "nbconvert_exporter": "python",
   "pygments_lexer": "ipython3",
   "version": "3.6.2"
  }
 },
 "nbformat": 4,
 "nbformat_minor": 2
}
